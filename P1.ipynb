{
 "cells": [
  {
   "cell_type": "markdown",
   "metadata": {},
   "source": [
    "# Self-Driving Car Engineer Nanodegree\n",
    "\n",
    "\n",
    "## Project: **Finding Lane Lines on the Road** \n",
    "***\n",
    "In this project, you will use the tools you learned about in the lesson to identify lane lines on the road.  You can develop your pipeline on a series of individual images, and later apply the result to a video stream (really just a series of images). Check out the video clip \"raw-lines-example.mp4\" (also contained in this repository) to see what the output should look like after using the helper functions below. \n",
    "\n",
    "Once you have a result that looks roughly like \"raw-lines-example.mp4\", you'll need to get creative and try to average and/or extrapolate the line segments you've detected to map out the full extent of the lane lines.  You can see an example of the result you're going for in the video \"P1_example.mp4\".  Ultimately, you would like to draw just one line for the left side of the lane, and one for the right.\n",
    "\n",
    "In addition to implementing code, there is a brief writeup to complete. The writeup should be completed in a separate file, which can be either a markdown file or a pdf document. There is a [write up template](https://github.com/udacity/CarND-LaneLines-P1/blob/master/writeup_template.md) that can be used to guide the writing process. Completing both the code in the Ipython notebook and the writeup template will cover all of the [rubric points](https://review.udacity.com/#!/rubrics/322/view) for this project.\n",
    "\n",
    "---\n",
    "Let's have a look at our first image called 'test_images/solidWhiteRight.jpg'.  Run the 2 cells below (hit Shift-Enter or the \"play\" button above) to display the image.\n",
    "\n",
    "**Note: If, at any point, you encounter frozen display windows or other confounding issues, you can always start again with a clean slate by going to the \"Kernel\" menu above and selecting \"Restart & Clear Output\".**\n",
    "\n",
    "---"
   ]
  },
  {
   "cell_type": "markdown",
   "metadata": {},
   "source": [
    "**The tools you have are color selection, region of interest selection, grayscaling, Gaussian smoothing, Canny Edge Detection and Hough Tranform line detection.  You  are also free to explore and try other techniques that were not presented in the lesson.  Your goal is piece together a pipeline to detect the line segments in the image, then average/extrapolate them and draw them onto the image for display (as below).  Once you have a working pipeline, try it out on the video stream below.**\n",
    "\n",
    "---\n",
    "\n",
    "<figure>\n",
    " <img src=\"examples/line-segments-example.jpg\" width=\"380\" alt=\"Combined Image\" />\n",
    " <figcaption>\n",
    " <p></p> \n",
    " <p style=\"text-align: center;\"> Your output should look something like this (above) after detecting line segments using the helper functions below </p> \n",
    " </figcaption>\n",
    "</figure>\n",
    " <p></p> \n",
    "<figure>\n",
    " <img src=\"examples/laneLines_thirdPass.jpg\" width=\"380\" alt=\"Combined Image\" />\n",
    " <figcaption>\n",
    " <p></p> \n",
    " <p style=\"text-align: center;\"> Your goal is to connect/average/extrapolate line segments to get output like this</p> \n",
    " </figcaption>\n",
    "</figure>"
   ]
  },
  {
   "cell_type": "markdown",
   "metadata": {},
   "source": [
    "**Run the cell below to import some packages.  If you get an `import error` for a package you've already installed, try changing your kernel (select the Kernel menu above --> Change Kernel).  Still have problems?  Try relaunching Jupyter Notebook from the terminal prompt.  Also, consult the forums for more troubleshooting tips.**  "
   ]
  },
  {
   "cell_type": "markdown",
   "metadata": {},
   "source": [
    "## Import Packages"
   ]
  },
  {
   "cell_type": "code",
   "execution_count": null,
   "metadata": {},
   "outputs": [],
   "source": [
    "#importing some useful packages\n",
    "import matplotlib.pyplot as plt\n",
    "import matplotlib.image as mpimg\n",
    "import numpy as np\n",
    "import cv2\n",
    "%matplotlib inline"
   ]
  },
  {
   "cell_type": "markdown",
   "metadata": {},
   "source": [
    "## Read in an Image"
   ]
  },
  {
   "cell_type": "code",
   "execution_count": null,
   "metadata": {},
   "outputs": [],
   "source": [
    "#reading in an image\n",
    "image = mpimg.imread('test_images/solidWhiteRight.jpg')\n",
    "\n",
    "#printing out some stats and plotting\n",
    "print('This image is:', type(image), 'with dimensions:', image.shape)\n",
    "plt.imshow(image)  # if you wanted to show a single color channel image called 'gray', for example, call as plt.imshow(gray, cmap='gray')"
   ]
  },
  {
   "cell_type": "markdown",
   "metadata": {},
   "source": [
    "## Ideas for Lane Detection Pipeline"
   ]
  },
  {
   "cell_type": "markdown",
   "metadata": {},
   "source": [
    "**Some OpenCV functions (beyond those introduced in the lesson) that might be useful for this project are:**\n",
    "\n",
    "`cv2.inRange()` for color selection  \n",
    "`cv2.fillPoly()` for regions selection  \n",
    "`cv2.line()` to draw lines on an image given endpoints  \n",
    "`cv2.addWeighted()` to coadd / overlay two images  \n",
    "`cv2.cvtColor()` to grayscale or change color  \n",
    "`cv2.imwrite()` to output images to file  \n",
    "`cv2.bitwise_and()` to apply a mask to an image\n",
    "\n",
    "**Check out the OpenCV documentation to learn about these and discover even more awesome functionality!**"
   ]
  },
  {
   "cell_type": "markdown",
   "metadata": {},
   "source": [
    "## Helper Functions"
   ]
  },
  {
   "cell_type": "markdown",
   "metadata": {},
   "source": [
    "Below are some helper functions to help get you started. They should look familiar from the lesson!"
   ]
  },
  {
   "cell_type": "code",
   "execution_count": null,
   "metadata": {},
   "outputs": [],
   "source": [
    "import math\n",
    "import statistics\n",
    "import inspect\n",
    "from scipy import spatial\n",
    "\n",
    "class CircularBuffer(object):\n",
    "    def __init__(self, size):\n",
    "        self.index= 0\n",
    "        self.size= size\n",
    "        self._data = []\n",
    "\n",
    "    def push(self, value):\n",
    "        if len(self._data) == self.size:\n",
    "            self._data[self.index]= value\n",
    "        else:\n",
    "            self._data.append(value)\n",
    "        self.index= (self.index + 1) % self.size\n",
    "\n",
    "    def __getitem__(self, key):\n",
    "        return(self._data[key])\n",
    "\n",
    "    def __len__(self):\n",
    "         return len(self._data)\n",
    "        \n",
    "    def average_point(self):\n",
    "        m = sum([x[0] for x in self._data])/len(self)\n",
    "        b = sum([x[1] for x in self._data])/len(self)\n",
    " \n",
    "        return m,b  \n",
    "\n",
    "    def get_all(self):\n",
    "        return(self._data)\n",
    "    \n",
    "def grayscale(img):\n",
    "    \"\"\"Applies the Grayscale transform\n",
    "    This will return an image with only one color channel\n",
    "    but NOTE: to see the returned image as grayscale\n",
    "    (assuming your grayscaled image is called 'gray')\n",
    "    you should call plt.imshow(gray, cmap='gray')\"\"\"\n",
    "    return cv2.cvtColor(img, cv2.COLOR_RGB2GRAY)\n",
    "    # Or use BGR2GRAY if you read an image with cv2.imread()\n",
    "    # return cv2.cvtColor(img, cv2.COLOR_BGR2GRAY)\n",
    "    \n",
    "def canny(img, low_threshold, high_threshold):\n",
    "    \"\"\"Applies the Canny transform\"\"\"\n",
    "    return cv2.Canny(img, low_threshold, high_threshold)\n",
    "\n",
    "def gaussian_blur(img, kernel_size):\n",
    "    \"\"\"Applies a Gaussian Noise kernel\"\"\"\n",
    "    return cv2.GaussianBlur(img, (kernel_size, kernel_size), 0)\n",
    "\n",
    "def region_of_interest(img, vertices):\n",
    "    \"\"\"\n",
    "    Applies an image mask.\n",
    "    \n",
    "    Only keeps the region of the image defined by the polygon\n",
    "    formed from `vertices`. The rest of the image is set to black.\n",
    "    `vertices` should be a numpy array of integer points.\n",
    "    \"\"\"\n",
    "    #defining a blank mask to start with\n",
    "    mask = np.zeros_like(img)   \n",
    "    \n",
    "    #defining a 3 channel or 1 channel color to fill the mask with depending on the input image\n",
    "    if len(img.shape) > 2:\n",
    "        channel_count = img.shape[2]  # i.e. 3 or 4 depending on your image\n",
    "        ignore_mask_color = (255,) * channel_count\n",
    "    else:\n",
    "        ignore_mask_color = 255\n",
    "        \n",
    "    #filling pixels inside the polygon defined by \"vertices\" with the fill color    \n",
    "    cv2.fillPoly(mask, vertices, ignore_mask_color)\n",
    "    \n",
    "    #returning the image only where mask pixels are nonzero\n",
    "    masked_image = cv2.bitwise_and(img, mask)\n",
    "    return masked_image\n",
    "\n",
    "\n",
    "def draw_lines(img, lines, color=[255, 0, 0], thickness=10):\n",
    "    \"\"\"\n",
    "    average/extrapolate the line segments you detect to map out the full\n",
    "    extent of the lane (going from the result shown in raw-lines-example.mp4\n",
    "    to that shown in P1_example.mp4).  \n",
    "    \n",
    "    Think about things like separating line segments by their \n",
    "    slope ((y2-y1)/(x2-x1)) to decide which segments are part of the left\n",
    "    line vs. the right line.  Then, you can average the position of each of \n",
    "    the lines and extrapolate to the top and bottom of the lane.\n",
    "    \n",
    "    This function draws `lines` with `color` and `thickness`.    \n",
    "    Lines are drawn on the image inplace (mutates the image).\n",
    "    If you want to make the lines semi-transparent, think about combining\n",
    "    this function with the weighted_img() function below\n",
    "    \"\"\"\n",
    "    \n",
    "    global right_buffer\n",
    "    global left_buffer\n",
    "\n",
    "    # Factor to store m parameter for lines, just too keep data as matrix of ints\n",
    "    m_factor = 1e3\n",
    "    \n",
    "    imshape = img.shape    \n",
    "    \n",
    "    lines_parametrized = []\n",
    "    left_candidates = []\n",
    "    right_candidates = []\n",
    "    \n",
    "    # Calculate max and min slopes to filter lines later\n",
    "    diagonal_slope = image.shape[0]/image.shape[1]\n",
    "    \n",
    "    max_slope = (2*diagonal_slope)*m_factor; # exclude lines that are too vertical\n",
    "    min_slope= (0.8*diagonal_slope)*m_factor; # exclude lines that are too horizontal\n",
    "    \n",
    "    # Calculate M and B for all lines\n",
    "    for line in lines:\n",
    "        for x1,y1,x2,y2 in line:\n",
    "            if (abs(x2-x1) > 20) and (abs(y2-y1) > 20): # Exclude small lines\n",
    "                m = (y2-y1)/(x2-x1)\n",
    "                lines_parametrized.append([x1,y1,x2,y2, int(m*m_factor) , int(y1 - x1*m) ])\n",
    "    \n",
    "    # Split lines by slope sign\n",
    "    for line in lines_parametrized:\n",
    "        m = line[4]\n",
    "        if (abs(m) < max_slope) and (abs(m) > min_slope): # Filter with max/min slopes \n",
    "            if m > 0:\n",
    "                right_candidates.append(line)\n",
    "            else:\n",
    "                left_candidates.append(line)\n",
    "    \n",
    "    # Calculate current lane line and push it to buffer\n",
    "    update_buffer(buffer_left, left_candidates)\n",
    "    update_buffer(buffer_right, right_candidates)\n",
    "    \n",
    "    # Get average of last N lane lines in buffer\n",
    "    m_left, b_left = buffer_left.average_point()\n",
    "    m_right, b_right= buffer_right.average_point()\n",
    "    \n",
    "    # Plot the averaged line\n",
    "    start_y = imshape[0]\n",
    "    end_y = height_factor*imshape[0]\n",
    "    \n",
    "    x1l, x2l, y1l, y2l = interpolate_line(m_left, m_factor, b_left, start_y, end_y)\n",
    "    x1r, x2r, y1r, y2r = interpolate_line(m_right, m_factor, b_right, start_y, end_y)\n",
    "    \n",
    "    cv2.line(img, (x1l, y1l), (x2l, y2l), color, thickness)   \n",
    "    cv2.line(img, (x1r, y1r), (x2r, y2r), color, thickness)   \n",
    "    \n",
    "\n",
    "def interpolate_line(m, m_factor, b, start_y, end_y):\n",
    "    y1 = int(start_y)\n",
    "    y2 = int(end_y)\n",
    "    \n",
    "    x1 = calculate_x(y1, m,m_factor, b)\n",
    "    x2 = calculate_x(y2, m,m_factor, b) \n",
    "    \n",
    "    return x1,x2,y1,y2\n",
    "    \n",
    "        \n",
    "def calculate_x(y,m,m_factor,b):\n",
    "    return int((y - b)/(m/m_factor))\n",
    "\n",
    "def update_buffer(buffer, candidates):\n",
    "  \n",
    "    if buffer:\n",
    "        reference_line = buffer.average_point()\n",
    "    else:\n",
    "        reference_line = []\n",
    "\n",
    "    m, b = calculate_next_lane_line(reference_line, candidates)\n",
    "        \n",
    "    buffer.push([m, b])    \n",
    "    \n",
    "    \n",
    "def calculate_next_lane_line(reference_line, candidates):\n",
    "    k = len(candidates)\n",
    "\n",
    "    m = [i[4] for i in candidates ]\n",
    "    b = [i[5] for i in candidates ]\n",
    "        \n",
    "    if( k == 1):\n",
    "        return m[0], b[0]    \n",
    "   \n",
    "    candidate_points = list(zip(m, b)) \n",
    "    kdtree = spatial.KDTree(candidate_points)\n",
    "    \n",
    "    # When there's no previous reference (first frame) the reference line is the average of candidates\n",
    "    if(not reference_line):\n",
    "        reference_line = (sum(m)/len(m), sum(b)/len(b))\n",
    "    \n",
    "    # Calculate distances from previous lane line to all the candidate lines\n",
    "    distances, index_list = kdtree.query(reference_line, k)\n",
    "    \n",
    "    # Calculate average distance\n",
    "    average_distance = sum(distances)/len(distances)\n",
    "    \n",
    "    #DEBUG: draw all candidate lines in blue cyan\n",
    "    #color_blue_cyan = (0,255,255)\n",
    "    #draw_debug_lines(candidates,color_blue_cyan,2)\n",
    "\n",
    "    # Filter all lines whose distance to the previous lane line is more than the average\n",
    "    distances = [x for x in distances if x < average_distance]\n",
    "    \n",
    "    # Filter the indexes as well\n",
    "    index_list = index_list[0:len(distances)]\n",
    "    \n",
    "    #DEBUG: draw filtered lines in green\n",
    "    #color_green = (0,255,0)\n",
    "    #draw_debug_lines([candidates[i] for i in index_list],color_green, 2)\n",
    "\n",
    "    # Get the average line from the filtered ones\n",
    "    m = [m[i] for i in index_list] \n",
    "    b = [b[i] for i in index_list]\n",
    "    \n",
    "    m = sum(m)/len(m)\n",
    "    b = sum(b)/len(b)\n",
    "    \n",
    "    return m,b\n",
    "\n",
    "def draw_debug_lines(lines,color,thickness):\n",
    "    debug_lines = np.asarray([lines])\n",
    "    for line in debug_lines:\n",
    "        for x1,y1,x2,y2,_,_ in line:\n",
    "            cv2.line(IMAGE, (x1, y1), (x2, y2), color, thickness)\n",
    "            \n",
    "def hough_lines(img, rho, theta, threshold, min_line_len, max_line_gap):\n",
    "    \"\"\"\n",
    "    `img` should be the output of a Canny regtransform.\n",
    "        max\n",
    "    Returns an image with hough lines drawn.\n",
    "    \"\"\"\n",
    "    lines = cv2.HoughLinesP(img, rho, theta, threshold, np.array([]), minLineLength=min_line_len, maxLineGap=max_line_gap)\n",
    "    line_img = np.zeros((img.shape[0], img.shape[1], 3), dtype=np.uint8)\n",
    "    \n",
    "    draw_lines(line_img, lines)\n",
    "    return line_img\n",
    "\n",
    "# Python 3 has support for co 0.25*average_distanceol math symbols.\n",
    "\n",
    "def weighted_img(img, initial_img, α=1.2, β=1., γ=0.):\n",
    "    \"\"\"\n",
    "    `img` is the output of the hough_-4:-1]lines(), An image with lines drawn on it.\n",
    "    Should be a blank image (all black) with lines drawn on it.\n",
    "    \n",
    "    `initial_img` should be the image before any processing.\n",
    "    \n",
    "    The result image is computed as follows:\n",
    "    \n",
    "    initial_img * α + img * β + γ\n",
    "    NOTE: initial_img and img must be the same shape!\n",
    "    \"\"\"\n",
    "    return cv2.addWeighted(initial_img, α, img, β, γ)"
   ]
  },
  {
   "cell_type": "markdown",
   "metadata": {},
   "source": [
    "## Test Images\n",
    "\n",
    "Build your pipeline to work on the images in the directory \"test_images\"  \n",
    "**You should make sure your pipeline works well on these images before you try the videos.**"
   ]
  },
  {
   "cell_type": "code",
   "execution_count": null,
   "metadata": {},
   "outputs": [],
   "source": [
    "import os\n",
    "image_filenames = os.listdir(\"test_images/\")\n",
    "print(image_filenames)\n",
    "#image_filenames = ['solidYellowLeft.jpg']\n",
    "#image_filenames = ['solidWhiteCurve.jpg']\n",
    "#image_filenames = ['whiteCarLaneSwitch.jpg']\n",
    "#image_filenames = ['solidYellowCurve.jpg']\n",
    "#image_filenames = ['solidYellowCurve2.jpg']\n",
    "\n"
   ]
  },
  {
   "cell_type": "markdown",
   "metadata": {},
   "source": [
    "## Build a Lane Finding Pipeline\n",
    "\n"
   ]
  },
  {
   "cell_type": "markdown",
   "metadata": {},
   "source": [
    "Build the pipeline and run your solution on all test_images. Make copies into the `test_images_output` directory, and you can use the images in your writeup report.\n",
    "\n",
    "Try tuning the various parameters, especially the low and high Canny thresholds as well as the Hough lines parameters."
   ]
  },
  {
   "cell_type": "code",
   "execution_count": null,
   "metadata": {},
   "outputs": [],
   "source": [
    "def get_region_of_interest_vertices(imshape, height_factor=.6, top_left_factor=.45, right_top_factor=.55):\n",
    "    left_bottom = [0, imshape[0]]\n",
    "    left_top = [top_left_factor*imshape[1], height_factor*imshape[0]]\n",
    "    right_top = [right_top_factor*imshape[1], height_factor*imshape[0]]\n",
    "    right_bottom = [imshape[1],imshape[0]]\n",
    "    \n",
    "    vertices = np.array([[left_bottom,left_top,right_top,right_bottom]], np.int32)\n",
    "    return vertices\n",
    "\n",
    "def process(image, clear_buffer=False):\n",
    "    \n",
    "    global buffer_right\n",
    "    global buffer_left\n",
    "    global height_factor\n",
    "    global IMAGE\n",
    "    \n",
    "    IMAGE = image\n",
    "    height_factor = .6\n",
    "    \n",
    "    vertices = get_region_of_interest_vertices(image.shape, height_factor)\n",
    "    \n",
    "    blur_gray = gaussian_blur(img=grayscale(image), kernel_size=11)\n",
    "    \n",
    "    blur_gray = cv2.adaptiveThreshold(blur_gray,255,cv2.ADAPTIVE_THRESH_GAUSSIAN_C,\\\n",
    "            cv2.THRESH_BINARY,11,2)\n",
    "        \n",
    " \n",
    "    v = np.median(blur_gray)\n",
    "    #black_white = np.dstack((blur_gray,blur_gray,blur_gray))\n",
    "    \n",
    "    edges = canny(img=blur_gray, low_threshold=v*.66, high_threshold=v*1.33)\n",
    "        \n",
    "    masked_edges = region_of_interest(img=edges, vertices=vertices )\n",
    "        \n",
    "    line_img = hough_lines(img=masked_edges, rho=3, theta=np.pi/180, threshold=70, min_line_len=5, max_line_gap=15)\n",
    "    \n",
    "    final = weighted_img(image, line_img)\n",
    "    \n",
    "    # Uncomment to show area of interest\n",
    "    #cv2.polylines(final, [vertices], True, (0,0,255),3)\n",
    "    \n",
    "    return final\n",
    "\n",
    "for index,filename in enumerate(image_filenames):\n",
    "    image = mpimg.imread(\"test_images/\" + filename)\n",
    "    \n",
    "    buffer_right = CircularBuffer(10)\n",
    "    buffer_left = CircularBuffer(10)\n",
    "\n",
    "    lanes_image = process(image)\n",
    "    plt.figure()\n",
    "    plt.imshow(lanes_image)"
   ]
  },
  {
   "cell_type": "markdown",
   "metadata": {},
   "source": [
    "## Test on Videos\n",
    "\n",
    "You know what's cooler than drawing lanes over images? Drawing lanes over video!\n",
    "\n",
    "We can test our solution on two provided videos:\n",
    "\n",
    "`solidWhiteRight.mp4`\n",
    "\n",
    "`solidYellowLeft.mp4`\n",
    "\n",
    "**Note: if you get an import error when you run the next cell, try changing your kernel (select the Kernel menu above --> Change Kernel). Still have problems? Try relaunching Jupyter Notebook from the terminal prompt. Also, consult the forums for more troubleshooting tips.**\n",
    "\n",
    "**If you get an error that looks like this:**\n",
    "```\n",
    "NeedDownloadError: Need ffmpeg exe. \n",
    "You can download it by calling: \n",
    "imageio.plugins.ffmpeg.download()\n",
    "```\n",
    "**Follow the instructions in the error message and check out [this forum post](https://discussions.udacity.com/t/project-error-of-test-on-videos/274082) for more troubleshooting tips across operating systems.**"
   ]
  },
  {
   "cell_type": "code",
   "execution_count": null,
   "metadata": {},
   "outputs": [],
   "source": [
    "# Import everything needed to edit/save/watch video clips\n",
    "from moviepy.editor import VideoFileClip\n",
    "from IPython.display import HTML"
   ]
  },
  {
   "cell_type": "code",
   "execution_count": null,
   "metadata": {},
   "outputs": [],
   "source": [
    "def process_image(image):\n",
    "    result = process(image)\n",
    "    # NOTE: The output you return should be a color image (3 channel) for processing video below\n",
    "    # TODO: put your pipeline here,\n",
    "    # you should return the final output (image where lines are drawn on lanes)\n",
    "\n",
    "    return result"
   ]
  },
  {
   "cell_type": "markdown",
   "metadata": {},
   "source": [
    "Let's try the one with the solid white lane on the right first ..."
   ]
  },
  {
   "cell_type": "code",
   "execution_count": null,
   "metadata": {
    "scrolled": true
   },
   "outputs": [],
   "source": [
    "white_output = 'test_videos_output/solidWhiteRight.mp4'\n",
    "## To speed up the testing process you may want to try your pipeline on a shorter subclip of the video\n",
    "## To do so add .subclip(start_second,end_second) to the end of the line below\n",
    "## Where start_second and end_second are integer values representing the start and end of the subclip\n",
    "## You may also uncomment the following line for a subclip of the first 5 seconds\n",
    "#clip1 = VideoFileClip(\"test_videos/solidWhiteRight.mp4\").subclip(0,1)\n",
    "clip1 = VideoFileClip(\"test_videos/solidWhiteRight.mp4\")\n",
    "\n",
    "buffer_left = CircularBuffer(10)\n",
    "buffer_right = CircularBuffer(10)\n",
    "white_clip = clip1.fl_image(process_image) #NOTE: this function expects color images!!\n",
    "%time white_clip.write_videofile(white_output, audio=False)"
   ]
  },
  {
   "cell_type": "markdown",
   "metadata": {},
   "source": [
    "Play the video inline, or if you prefer find the video in your filesystem (should be in the same directory) and play it in your video player of choice."
   ]
  },
  {
   "cell_type": "code",
   "execution_count": null,
   "metadata": {},
   "outputs": [],
   "source": [
    "HTML(\"\"\"\n",
    "<video width=\"960\" height=\"540\" controls>\n",
    "  <source src=\"{0}\">\n",
    "</video>\n",
    "\"\"\".format(white_output))"
   ]
  },
  {
   "cell_type": "markdown",
   "metadata": {},
   "source": [
    "## Improve the draw_lines() function\n",
    "\n",
    "**At this point, if you were successful with making the pipeline and tuning parameters, you probably have the Hough line segments drawn onto the road, but what about identifying the full extent of the lane and marking it clearly as in the example video (P1_example.mp4)?  Think about defining a line to run the full length of the visible lane based on the line segments you identified with the Hough Transform. As mentioned previously, try to average and/or extrapolate the line segments you've detected to map out the full extent of the lane lines. You can see an example of the result you're going for in the video \"P1_example.mp4\".**\n",
    "\n",
    "**Go back and modify your draw_lines function accordingly and try re-running your pipeline. The new output should draw a single, solid line over the left lane line and a single, solid line over the right lane line. The lines should start from the bottom of the image and extend out to the top of the region of interest.**"
   ]
  },
  {
   "cell_type": "markdown",
   "metadata": {},
   "source": [
    "Now for the one with the solid yellow lane on the left. This one's more tricky!"
   ]
  },
  {
   "cell_type": "code",
   "execution_count": null,
   "metadata": {},
   "outputs": [],
   "source": [
    "yellow_output = 'test_videos_output/solidYellowLeft.mp4'\n",
    "## To speed up the testing process you may want to try your pipeline on a shorter subclip of the video\n",
    "## To do so add .subclip(start_second,end_second) to the end of the line below\n",
    "## Where start_second and end_second are integer values representing the start and end of the subclip\n",
    "## You may also uncomment the following line for a subclip of the first 5 seconds\n",
    "##clip2 = VideoFileClip('test_videos/solidYellowLeft.mp4').subclip(0,5)\n",
    "clip2 = VideoFileClip('test_videos/solidYellowLeft.mp4')\n",
    "buffer_left = CircularBuffer(10)\n",
    "buffer_right = CircularBuffer(10)\n",
    "yellow_clip = clip2.fl_image(process_image)\n",
    "%time yellow_clip.write_videofile(yellow_output, audio=False)"
   ]
  },
  {
   "cell_type": "code",
   "execution_count": null,
   "metadata": {},
   "outputs": [],
   "source": [
    "HTML(\"\"\"\n",
    "<video width=\"960\" height=\"540\" controls>\n",
    "  <source src=\"{0}\">\n",
    "</video>canny\n",
    "\"\"\".format(yellow_output))"
   ]
  },
  {
   "cell_type": "markdown",
   "metadata": {},
   "source": [
    "## Writeup and Submission\n",
    "\n",
    "If you're satisfied with your video outputs, it's time to make the report writeup in a pdf or markdown file. Once you have this Ipython notebook ready along with the writeup, it's time to submit for review! Here is a [link](https://github.com/udacity/CarND-LaneLines-P1/blob/master/writeup_template.md) to the writeup template file.\n"
   ]
  },
  {
   "cell_type": "markdown",
   "metadata": {
    "collapsed": true
   },
   "source": [
    "## Optional Challenge\n",
    "\n",
    "Try your lane finding pipeline on the video below.  Does it still work?  Can you figure out a way to make it more robust?  If you're up for the challenge, modify your pipeline so it works with this video and submit it along with the rest of your project!"
   ]
  },
  {
   "cell_type": "code",
   "execution_count": null,
   "metadata": {
    "scrolled": true
   },
   "outputs": [],
   "source": [
    "challenge_output = 'test_videos_output/challenge.mp4'\n",
    "## To speed up the testing process you may want to try your pipeline on a shorter subclip of the video\n",
    "## To do so add .subclip(start_second,end_second) to the end of the line below\n",
    "## Where start_second and end_second are integer values representing the start and end of the subclip\n",
    "## You may also uncomment the following line for a subclip of the first 5 seconds\n",
    "##clip3 = VideoFileClip('test_videos/challenge.mp4').subclip(0,5)\n",
    "clip3 = VideoFileClip('test_videos/challenge.mp4')\n",
    "buffer_left = CircularBuffer(10)\n",
    "buffer_right = CircularBuffer(10)\n",
    "challenge_clip = clip3.fl_image(process_image)\n",
    "%time challenge_clip.write_videofile(challenge_output, audio=False)"
   ]
  },
  {
   "cell_type": "code",
   "execution_count": null,
   "metadata": {},
   "outputs": [],
   "source": [
    "HTML(\"\"\"\n",
    "<video width=\"960\" height=\"540\" controls>\n",
    "  <source src=\"{0}\">\n",
    "</video>\n",
    "\"\"\".format(challenge_output))"
   ]
  },
  {
   "cell_type": "code",
   "execution_count": null,
   "metadata": {},
   "outputs": [],
   "source": []
  },
  {
   "cell_type": "code",
   "execution_count": null,
   "metadata": {},
   "outputs": [],
   "source": []
  },
  {
   "cell_type": "code",
   "execution_count": null,
   "metadata": {},
   "outputs": [],
   "source": []
  },
  {
   "cell_type": "code",
   "execution_count": null,
   "metadata": {},
   "outputs": [],
   "source": []
  }
 ],
 "metadata": {
  "anaconda-cloud": {},
  "kernelspec": {
   "display_name": "Python 3",
   "language": "python",
   "name": "python3"
  },
  "language_info": {
   "codemirror_mode": {
    "name": "ipython",
    "version": 3
   },
   "file_extension": ".py",
   "mimetype": "text/x-python",
   "name": "python",
   "nbconvert_exporter": "python",
   "pygments_lexer": "ipython3",
   "version": "3.5.2"
  },
  "widgets": {
   "state": {},
   "version": "1.1.2"
  }
 },
 "nbformat": 4,
 "nbformat_minor": 1
}
